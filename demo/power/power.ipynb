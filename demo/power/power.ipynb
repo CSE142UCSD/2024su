{
 "cells": [
  {
   "cell_type": "code",
   "execution_count": 1,
   "id": "262d64a7-0c95-43c9-920d-c1edaa782fdd",
   "metadata": {},
   "outputs": [
    {
     "data": {
      "text/html": [
       "<style>h1 {font-size: 2vw;} h2 {font-size: 1.5vw;} p {font-size: 1.4vw;} div.prompt, code, output, prompt, kbd, pre, samp {font-family: 'SF Mono', 'Courier New', Courier, monospace, sans-serif !important;font-size: 1.4vw !important;}</style>"
      ],
      "text/plain": [
       "<IPython.core.display.HTML object>"
      ]
     },
     "metadata": {},
     "output_type": "display_data"
    }
   ],
   "source": [
    "%load_ext autoreload\n",
    "%autoreload 2\n",
    "from notebook import *\n",
    "# if get something about NUMEXPR_MAX_THREADS being set incorrectly, don't worry.  It's not a problem."
   ]
  },
  {
   "cell_type": "markdown",
   "id": "ccdaf701-d61b-4c58-9838-d751d35b2c35",
   "metadata": {},
   "source": [
    "# Power consumption and Dark Silicon\n",
    "\n",
    "## How fast are my CPUs and GPUs?"
   ]
  },
  {
   "cell_type": "code",
   "execution_count": 2,
   "id": "f4097233-c2a0-4791-9920-f8901fa9bd0e",
   "metadata": {},
   "outputs": [
    {
     "name": "stdout",
     "output_type": "stream",
     "text": [
      "Architecture:             x86_64\n",
      "  CPU op-mode(s):         32-bit, 64-bit\n",
      "  Address sizes:          46 bits physical, 48 bits virtual\n",
      "  Byte Order:             Little Endian\n",
      "CPU(s):                   24\n",
      "  On-line CPU(s) list:    0-23\n",
      "Vendor ID:                GenuineIntel\n",
      "  Model name:             13th Gen Intel(R) Core(TM) i7-13700\n",
      "    CPU family:           6\n",
      "    Model:                183\n",
      "    Thread(s) per core:   2\n",
      "    Core(s) per socket:   16\n",
      "    Socket(s):            1\n",
      "    Stepping:             1\n",
      "    CPU(s) scaling MHz:   57%\n",
      "    CPU max MHz:          5200.0000\n",
      "    CPU min MHz:          800.0000\n",
      "    BogoMIPS:             4224.00\n",
      "    Flags:                fpu vme de pse tsc msr pae mce cx8 apic sep mtrr pge m\n",
      "                          ca cmov pat pse36 clflush dts acpi mmx fxsr sse sse2 s\n",
      "                          s ht tm pbe syscall nx pdpe1gb rdtscp lm constant_tsc \n",
      "                          art arch_perfmon pebs bts rep_good nopl xtopology nons\n",
      "                          top_tsc cpuid aperfmperf tsc_known_freq pni pclmulqdq \n",
      "                          dtes64 monitor ds_cpl vmx smx est tm2 ssse3 sdbg fma c\n",
      "                          x16 xtpr pdcm sse4_1 sse4_2 x2apic movbe popcnt tsc_de\n",
      "                          adline_timer aes xsave avx f16c rdrand lahf_lm abm 3dn\n",
      "                          owprefetch cpuid_fault ssbd ibrs ibpb stibp ibrs_enhan\n",
      "                          ced tpr_shadow flexpriority ept vpid ept_ad fsgsbase t\n",
      "                          sc_adjust bmi1 avx2 smep bmi2 erms invpcid rdseed adx \n",
      "                          smap clflushopt clwb intel_pt sha_ni xsaveopt xsavec x\n",
      "                          getbv1 xsaves split_lock_detect user_shstk avx_vnni dt\n",
      "                          herm ida arat pln pts hwp hwp_notify hwp_act_window hw\n",
      "                          p_epp hwp_pkg_req hfi vnmi umip pku ospke waitpkg gfni\n",
      "                           vaes vpclmulqdq tme rdpid movdiri movdir64b fsrm md_c\n",
      "                          lear serialize pconfig arch_lbr ibt flush_l1d arch_cap\n",
      "                          abilities\n",
      "Virtualization features:  \n",
      "  Virtualization:         VT-x\n",
      "Caches (sum of all):      \n",
      "  L1d:                    640 KiB (16 instances)\n",
      "  L1i:                    768 KiB (16 instances)\n",
      "  L2:                     24 MiB (10 instances)\n",
      "  L3:                     30 MiB (1 instance)\n",
      "NUMA:                     \n",
      "  NUMA node(s):           1\n",
      "  NUMA node0 CPU(s):      0-23\n",
      "Vulnerabilities:          \n",
      "  Gather data sampling:   Not affected\n",
      "  Itlb multihit:          Not affected\n",
      "  L1tf:                   Not affected\n",
      "  Mds:                    Not affected\n",
      "  Meltdown:               Not affected\n",
      "  Mmio stale data:        Not affected\n",
      "  Reg file data sampling: Mitigation; Clear Register File\n",
      "  Retbleed:               Not affected\n",
      "  Spec rstack overflow:   Not affected\n",
      "  Spec store bypass:      Mitigation; Speculative Store Bypass disabled via prct\n",
      "                          l\n",
      "  Spectre v1:             Mitigation; usercopy/swapgs barriers and __user pointe\n",
      "                          r sanitization\n",
      "  Spectre v2:             Mitigation; Enhanced / Automatic IBRS; IBPB conditiona\n",
      "                          l; RSB filling; PBRSB-eIBRS SW sequence; BHI BHI_DIS_S\n",
      "  Srbds:                  Not affected\n",
      "  Tsx async abort:        Not affected\n"
     ]
    }
   ],
   "source": [
    "! lscpu"
   ]
  },
  {
   "cell_type": "code",
   "execution_count": 3,
   "id": "54303727-0828-4293-990e-29ffbc94f190",
   "metadata": {},
   "outputs": [
    {
     "name": "stdout",
     "output_type": "stream",
     "text": [
      "cpu MHz\t\t: 1805.923\n",
      "cpu MHz\t\t: 800.000\n",
      "cpu MHz\t\t: 800.000\n",
      "cpu MHz\t\t: 800.000\n",
      "cpu MHz\t\t: 800.000\n",
      "cpu MHz\t\t: 800.000\n",
      "cpu MHz\t\t: 800.000\n",
      "cpu MHz\t\t: 800.000\n",
      "cpu MHz\t\t: 3027.436\n",
      "cpu MHz\t\t: 800.000\n",
      "cpu MHz\t\t: 3040.523\n",
      "cpu MHz\t\t: 800.000\n",
      "cpu MHz\t\t: 3075.390\n",
      "cpu MHz\t\t: 800.000\n",
      "cpu MHz\t\t: 2983.953\n",
      "cpu MHz\t\t: 800.000\n",
      "cpu MHz\t\t: 2197.679\n",
      "cpu MHz\t\t: 2116.265\n",
      "cpu MHz\t\t: 800.000\n",
      "cpu MHz\t\t: 800.000\n",
      "cpu MHz\t\t: 800.000\n",
      "cpu MHz\t\t: 800.000\n",
      "cpu MHz\t\t: 800.000\n",
      "cpu MHz\t\t: 2197.785\n"
     ]
    }
   ],
   "source": [
    "! cat /proc/cpuinfo |grep MHz"
   ]
  },
  {
   "cell_type": "code",
   "execution_count": 4,
   "id": "9590c355-7016-4293-883c-508f4d24bb4f",
   "metadata": {},
   "outputs": [
    {
     "name": "stdout",
     "output_type": "stream",
     "text": [
      "Architecture:                       x86_64\n",
      "CPU op-mode(s):                     32-bit, 64-bit\n",
      "Byte Order:                         Little Endian\n",
      "Address sizes:                      46 bits physical, 48 bits virtual\n",
      "CPU(s):                             32\n",
      "On-line CPU(s) list:                0-31\n",
      "Thread(s) per core:                 2\n",
      "Core(s) per socket:                 8\n",
      "Socket(s):                          2\n",
      "NUMA node(s):                       2\n",
      "Vendor ID:                          GenuineIntel\n",
      "CPU family:                         6\n",
      "Model:                              85\n",
      "Model name:                         Intel(R) Xeon(R) Silver 4108 CPU @ 1.80GHz\n",
      "Stepping:                           4\n",
      "CPU MHz:                            800.576\n",
      "CPU max MHz:                        3000.0000\n",
      "CPU min MHz:                        800.0000\n",
      "BogoMIPS:                           3600.00\n",
      "Virtualization:                     VT-x\n",
      "L1d cache:                          512 KiB\n",
      "L1i cache:                          512 KiB\n",
      "L2 cache:                           16 MiB\n",
      "L3 cache:                           22 MiB\n",
      "NUMA node0 CPU(s):                  0-7,16-23\n",
      "NUMA node1 CPU(s):                  8-15,24-31\n",
      "Vulnerability Gather data sampling: Mitigation; Microcode\n",
      "Vulnerability Itlb multihit:        KVM: Mitigation: Split huge pages\n",
      "Vulnerability L1tf:                 Mitigation; PTE Inversion; VMX conditional cache flushes, SMT vulnerable\n",
      "Vulnerability Mds:                  Mitigation; Clear CPU buffers; SMT vulnerable\n",
      "Vulnerability Meltdown:             Mitigation; PTI\n",
      "Vulnerability Mmio stale data:      Mitigation; Clear CPU buffers; SMT vulnerable\n",
      "Vulnerability Retbleed:             Mitigation; IBRS\n",
      "Vulnerability Spec store bypass:    Mitigation; Speculative Store Bypass disabled via prctl and seccomp\n",
      "Vulnerability Spectre v1:           Mitigation; usercopy/swapgs barriers and __user pointer sanitization\n",
      "Vulnerability Spectre v2:           Mitigation; IBRS; IBPB conditional; STIBP conditional; RSB filling; PBRSB-eIBRS Not affected; BHI Not affected\n",
      "Vulnerability Srbds:                Not affected\n",
      "Vulnerability Tsx async abort:      Mitigation; Clear CPU buffers; SMT vulnerable\n",
      "Flags:                              fpu vme de pse tsc msr pae mce cx8 apic sep mtrr pge mca cmov pat pse36 clflush dts acpi mmx fxsr sse sse2 ss ht tm pbe syscall nx pdpe1gb rdtscp lm constant_tsc art arch_perfmon pebs bts rep_good nopl xtopology nonstop_tsc cpuid aperfmperf pni pclmulqdq dtes64 monitor ds_cpl vmx smx est tm2 ssse3 sdbg fma cx16 xtpr pdcm pcid dca sse4_1 sse4_2 x2apic movbe popcnt tsc_deadline_timer aes xsave avx f16c rdrand lahf_lm abm 3dnowprefetch cpuid_fault epb cat_l3 cdp_l3 invpcid_single pti intel_ppin ssbd mba ibrs ibpb stibp tpr_shadow vnmi flexpriority ept vpid ept_ad fsgsbase tsc_adjust bmi1 hle avx2 smep bmi2 erms invpcid rtm cqm mpx rdt_a avx512f avx512dq rdseed adx smap clflushopt clwb intel_pt avx512cd avx512bw avx512vl xsaveopt xsavec xgetbv1 xsaves cqm_llc cqm_occup_llc cqm_mbm_total cqm_mbm_local dtherm ida arat pln pts hwp hwp_act_window hwp_epp hwp_pkg_req pku ospke md_clear flush_l1d arch_capabilities\n"
     ]
    }
   ],
   "source": [
    "! ssh htseng@eevee \"lscpu\""
   ]
  },
  {
   "cell_type": "code",
   "execution_count": 29,
   "id": "a90875af-aade-4bbb-a839-cdd47f26046d",
   "metadata": {},
   "outputs": [
    {
     "name": "stdout",
     "output_type": "stream",
     "text": [
      "Sleeping longer as likwid_sleep() called without prior initialization\n",
      "Sleeping longer as likwid_sleep() called without prior initialization\n",
      "|   INSTR_RETIRED_ANY STAT   |  FIXC0  | 49531287594 |   0 | 49523240493 | 1.547853e+09 |\n",
      "| CPU_CLK_UNHALTED_CORE STAT |  FIXC1  | 17833856848 |   0 | 17820370015 | 5.573080e+08 |\n",
      "|  CPU_CLK_UNHALTED_REF STAT |  FIXC2  | 40126212576 |   0 | 40095866160 |   1253944143 |\n",
      "|       TEMP_CORE STAT       |   TMP0  |         711 |  17 |          27 |      22.2188 |\n",
      "|     PWR_PKG_ENERGY STAT    |   PWR0  |    862.7824 |   0 |    446.5026 |      26.9620 |\n",
      "|     PWR_PP0_ENERGY STAT    |   PWR1  |           0 |   0 |           0 |            0 |\n",
      "|    PWR_DRAM_ENERGY STAT    |   PWR3  |     70.0977 |   0 |     59.8332 |       2.1906 |\n",
      "|  Runtime (RDTSC) [s] STAT |   716.0672 |  22.3771 |  22.3771 |  22.3771 |\n",
      "| Runtime unhalted [s] STAT |     9.9078 |        0 |   9.9002 |   0.3096 |\n",
      "|      Clock [MHz] STAT     | 12795.5533 | 796.3893 | 800.8916 | 399.8610 |\n",
      "|          CPI STAT         |    78.2056 |   0.3598 |  24.5043 |   2.4439 |\n",
      "|    Temperature [C] STAT   |        711 |       17 |       27 |  22.2188 |\n",
      "|      Energy [J] STAT      |   862.7824 |        0 | 446.5026 |  26.9620 |\n",
      "|       Power [W] STAT      |    38.5564 |        0 |  19.9535 |   1.2049 |\n",
      "|    Energy PP0 [J] STAT    |          0 |        0 |        0 |        0 |\n",
      "|     Power PP0 [W] STAT    |          0 |        0 |        0 |        0 |\n",
      "|    Energy DRAM [J] STAT   |    70.0977 |        0 |  59.8332 |   2.1906 |\n",
      "|    Power DRAM [W] STAT    |     3.1326 |        0 |   2.6739 |   0.0979 |\n",
      "\n",
      "real\t0m23.786s\n",
      "user\t0m22.424s\n",
      "sys\t0m0.160s\n"
     ]
    }
   ],
   "source": [
    "# Operating at lowest freq.\n",
    "! ssh htseng@eevee \"/nfshome/htseng/courses/CSE142/demo/power/lowerMaxFreq.sh; cd /nfshome/htseng/courses/CSE142/demo/power; make -C matrix_mul clean all ;  time sudo likwid-perfctr -g ENERGY matrix_mul/blockmm 1024 16\" | grep \"STAT\""
   ]
  },
  {
   "cell_type": "code",
   "execution_count": 30,
   "id": "a879c461-7eba-46e2-8c35-0f9e88223ae7",
   "metadata": {
    "tags": []
   },
   "outputs": [
    {
     "name": "stdout",
     "output_type": "stream",
     "text": [
      "Sleeping longer as likwid_sleep() called without prior initialization\n",
      "Sleeping longer as likwid_sleep() called without prior initialization\n",
      "|   INSTR_RETIRED_ANY STAT   |  FIXC0  | 49525949879 |   0 | 49523236402 | 1.547686e+09 |\n",
      "| CPU_CLK_UNHALTED_CORE STAT |  FIXC1  | 17850389183 |   0 | 17846095703 | 5.578247e+08 |\n",
      "|  CPU_CLK_UNHALTED_REF STAT |  FIXC2  | 10736840448 |   0 | 10727345304 |    335526264 |\n",
      "|       TEMP_CORE STAT       |   TMP0  |         743 |  18 |          27 |      23.2188 |\n",
      "|     PWR_PKG_ENERGY STAT    |   PWR0  |    320.2301 |   0 |    174.1351 |      10.0072 |\n",
      "|     PWR_PP0_ENERGY STAT    |   PWR1  |           0 |   0 |           0 |            0 |\n",
      "|    PWR_DRAM_ENERGY STAT    |   PWR3  |     39.5498 |   0 |     22.9646 |       1.2359 |\n",
      "|  Runtime (RDTSC) [s] STAT |   191.8624 |   5.9957 |    5.9957 |   5.9957 |\n",
      "| Runtime unhalted [s] STAT |     9.9169 |        0 |    9.9145 |   0.3099 |\n",
      "|      Clock [MHz] STAT     | 14947.4945 | 798.8559 | 2994.4930 | 467.1092 |\n",
      "|          CPI STAT         |    45.4991 |   0.3604 |    6.9976 |   1.4218 |\n",
      "|    Temperature [C] STAT   |        743 |       18 |        27 |  23.2188 |\n",
      "|      Energy [J] STAT      |   320.2301 |        0 |  174.1351 |  10.0072 |\n",
      "|       Power [W] STAT      |    53.4103 |        0 |   29.0435 |   1.6691 |\n",
      "|    Energy PP0 [J] STAT    |          0 |        0 |         0 |        0 |\n",
      "|     Power PP0 [W] STAT    |          0 |        0 |         0 |        0 |\n",
      "|    Energy DRAM [J] STAT   |    39.5498 |        0 |   22.9646 |   1.2359 |\n",
      "|    Power DRAM [W] STAT    |     6.5964 |        0 |    3.8302 |   0.2061 |\n",
      "\n",
      "real\t0m7.358s\n",
      "user\t0m6.067s\n",
      "sys\t0m0.104s\n"
     ]
    }
   ],
   "source": [
    "# Allowing turbo boost\n",
    "! ssh htseng@eevee \"/nfshome/htseng/courses/CSE142/demo/power/restoreMaxFreq.sh; cd /nfshome/htseng/courses/CSE142/demo/power; time sudo likwid-perfctr -g ENERGY matrix_mul/blockmm 1024 16\" | grep \"STAT\""
   ]
  },
  {
   "cell_type": "code",
   "execution_count": 8,
   "id": "50bc70a9-3ee2-4c2a-9c3b-293518569755",
   "metadata": {},
   "outputs": [
    {
     "name": "stdout",
     "output_type": "stream",
     "text": [
      "Sleeping longer as likwid_sleep() called without prior initialization\n",
      "Sleeping longer as likwid_sleep() called without prior initialization\n",
      "|   INSTR_RETIRED_ANY STAT   |  FIXC0  | 80118744646 |   0 | 80002272949 | 2.503711e+09 |\n",
      "| CPU_CLK_UNHALTED_CORE STAT |  FIXC1  | 21473661358 |   0 | 21389051661 | 6.710519e+08 |\n",
      "|  CPU_CLK_UNHALTED_REF STAT |  FIXC2  | 48315649176 |   0 | 48125278584 | 1.509864e+09 |\n",
      "|       TEMP_CORE STAT       |   TMP0  |         730 |  18 |          27 |      22.8125 |\n",
      "|     PWR_PKG_ENERGY STAT    |   PWR0  |   1032.6894 |   0 |    534.1400 |      32.2715 |\n",
      "|     PWR_PP0_ENERGY STAT    |   PWR1  |           0 |   0 |           0 |            0 |\n",
      "|    PWR_DRAM_ENERGY STAT    |   PWR3  |     79.5384 |   0 |     72.1068 |       2.4856 |\n",
      "|  Runtime (RDTSC) [s] STAT |   857.4368 |  26.7949 |  26.7949 |  26.7949 |\n",
      "| Runtime unhalted [s] STAT |    11.9299 |        0 |  11.8829 |   0.3728 |\n",
      "|      Clock [MHz] STAT     | 16000.1414 | 798.4320 | 801.3755 | 500.0044 |\n",
      "|          CPI STAT         |    52.5103 |   0.2674 |  26.2051 |   1.6409 |\n",
      "|    Temperature [C] STAT   |        730 |       18 |       27 |  22.8125 |\n",
      "|      Energy [J] STAT      |  1032.6894 |        0 | 534.1400 |  32.2715 |\n",
      "|       Power [W] STAT      |    38.5405 |        0 |  19.9344 |   1.2044 |\n",
      "|    Energy PP0 [J] STAT    |          0 |        0 |        0 |        0 |\n",
      "|     Power PP0 [W] STAT    |          0 |        0 |        0 |        0 |\n",
      "|    Energy DRAM [J] STAT   |    79.5384 |        0 |  72.1068 |   2.4856 |\n",
      "|    Power DRAM [W] STAT    |     2.9685 |        0 |   2.6911 |   0.0928 |\n"
     ]
    }
   ],
   "source": [
    "# Operating at lowest freq.\n",
    "! ssh htseng@eevee \"/nfshome/htseng/courses/CSE142/demo/power/lowerMaxFreq.sh; cd /nfshome/htseng/courses/CSE142/demo/power/popcounts; make clean; make; time sudo likwid-perfctr -g ENERGY ./popcount_D\" | grep \"STAT\""
   ]
  },
  {
   "cell_type": "code",
   "execution_count": 9,
   "id": "a717df13-a68e-4eb9-b5d6-923e159a5b6e",
   "metadata": {},
   "outputs": [
    {
     "name": "stdout",
     "output_type": "stream",
     "text": [
      "Sleeping longer as likwid_sleep() called without prior initialization\n",
      "Sleeping longer as likwid_sleep() called without prior initialization\n",
      "|   INSTR_RETIRED_ANY STAT   |  FIXC0  | 80005178427 |   0 | 80002268036 | 2.500162e+09 |\n",
      "| CPU_CLK_UNHALTED_CORE STAT |  FIXC1  | 21387905485 |   0 | 21383241417 | 6.683720e+08 |\n",
      "|  CPU_CLK_UNHALTED_REF STAT |  FIXC2  | 12880339128 |   0 | 12869923608 | 4.025106e+08 |\n",
      "|       TEMP_CORE STAT       |   TMP0  |         765 |  19 |          28 |      23.9062 |\n",
      "|     PWR_PKG_ENERGY STAT    |   PWR0  |    382.4405 |   0 |    207.3791 |      11.9513 |\n",
      "|     PWR_PP0_ENERGY STAT    |   PWR1  |           0 |   0 |           0 |            0 |\n",
      "|    PWR_DRAM_ENERGY STAT    |   PWR3  |     46.4689 |   0 |     27.6189 |       1.4522 |\n",
      "|  Runtime (RDTSC) [s] STAT |   229.1744 |   7.1617 |    7.1617 |   7.1617 |\n",
      "| Runtime unhalted [s] STAT |    11.8821 |        0 |   11.8796 |   0.3713 |\n",
      "|      Clock [MHz] STAT     | 13767.5719 | 799.6714 | 2990.6788 | 430.2366 |\n",
      "|          CPI STAT         |    35.0639 |   0.2673 |    4.3074 |   1.0957 |\n",
      "|    Temperature [C] STAT   |        765 |       19 |        28 |  23.9062 |\n",
      "|      Energy [J] STAT      |   382.4405 |        0 |  207.3791 |  11.9513 |\n",
      "|       Power [W] STAT      |    53.4012 |        0 |   28.9569 |   1.6688 |\n",
      "|    Energy PP0 [J] STAT    |          0 |        0 |         0 |        0 |\n",
      "|     Power PP0 [W] STAT    |          0 |        0 |         0 |        0 |\n",
      "|    Energy DRAM [J] STAT   |    46.4689 |        0 |   27.6189 |   1.4522 |\n",
      "|    Power DRAM [W] STAT    |     6.4886 |        0 |    3.8565 |   0.2028 |\n"
     ]
    }
   ],
   "source": [
    "# Allowing turbo boost\n",
    "! ssh htseng@eevee \"/nfshome/htseng/courses/CSE142/demo/power/restoreMaxFreq.sh; cd /nfshome/htseng/courses/CSE142/demo/power/popcounts;  sudo likwid-perfctr -g ENERGY ./popcount_D\" | grep \"STAT\""
   ]
  },
  {
   "cell_type": "code",
   "execution_count": 37,
   "id": "cbcac097-8122-482d-bbd0-f4a6e04e0fe8",
   "metadata": {},
   "outputs": [
    {
     "name": "stdout",
     "output_type": "stream",
     "text": [
      "Sleeping longer as likwid_sleep() called without prior initialization\n",
      "Sleeping longer as likwid_sleep() called without prior initialization\n",
      "|   INSTR_RETIRED_ANY STAT   |  FIXC0  |  74620663636 |   0 |  74471251336 | 2.331896e+09 |\n",
      "| CPU_CLK_UNHALTED_CORE STAT |  FIXC1  |  51860027547 |   0 |  51732339323 | 1.620626e+09 |\n",
      "|  CPU_CLK_UNHALTED_REF STAT |  FIXC2  | 116685053424 |   0 | 116397755784 | 3.646408e+09 |\n",
      "|       TEMP_CORE STAT       |   TMP0  |          720 |  18 |           27 |      22.5000 |\n",
      "|     PWR_PKG_ENERGY STAT    |   PWR0  |    2508.4845 |   0 |    1300.1085 |      78.3901 |\n",
      "|     PWR_PP0_ENERGY STAT    |   PWR1  |            0 |   0 |            0 |            0 |\n",
      "|    PWR_DRAM_ENERGY STAT    |   PWR3  |     202.3557 |   0 |     170.1228 |       6.3236 |\n",
      "|  Runtime (RDTSC) [s] STAT |  2081.8208 |  65.0569 |   65.0569 |  65.0569 |\n",
      "| Runtime unhalted [s] STAT |    28.8111 |        0 |   28.7403 |   0.9003 |\n",
      "|      Clock [MHz] STAT     | 24000.8025 | 799.2857 |  800.7401 | 750.0251 |\n",
      "|          CPI STAT         |    54.8084 |   0.5184 |    8.0421 |   1.7128 |\n",
      "|    Temperature [C] STAT   |        720 |       18 |        27 |  22.5000 |\n",
      "|      Energy [J] STAT      |  2508.4845 |        0 | 1300.1085 |  78.3901 |\n",
      "|       Power [W] STAT      |    38.5584 |        0 |   19.9842 |   1.2050 |\n",
      "|    Energy PP0 [J] STAT    |          0 |        0 |         0 |        0 |\n",
      "|     Power PP0 [W] STAT    |          0 |        0 |         0 |        0 |\n",
      "|    Energy DRAM [J] STAT   |   202.3557 |        0 |  170.1228 |   6.3236 |\n",
      "|    Power DRAM [W] STAT    |     3.1105 |        0 |    2.6150 |   0.0972 |\n",
      "\n",
      "real\t1m6.496s\n",
      "user\t1m5.075s\n",
      "sys\t0m0.245s\n"
     ]
    }
   ],
   "source": [
    "# Operating at lowest freq.\n",
    "! ssh htseng@eevee \"/nfshome/htseng/courses/CSE142/demo/power/lowerMaxFreq.sh; cd /nfshome/htseng/courses/CSE142/demo/power;  time sudo likwid-perfctr -g ENERGY matrix_mul/blockmm_pthread 2048 16 32\" | grep \"STAT\""
   ]
  },
  {
   "cell_type": "code",
   "execution_count": 36,
   "id": "9fbcd488-84b3-4b4f-9db1-f1732c41bef9",
   "metadata": {},
   "outputs": [
    {
     "name": "stdout",
     "output_type": "stream",
     "text": [
      "Sleeping longer as likwid_sleep() called without prior initialization\n",
      "Sleeping longer as likwid_sleep() called without prior initialization\n",
      "|   INSTR_RETIRED_ANY STAT   |  FIXC0  | 74479237353 |   0 | 65212611945 | 2.327476e+09 |\n",
      "| CPU_CLK_UNHALTED_CORE STAT |  FIXC1  | 52458964386 |   0 | 45941907601 | 1.639343e+09 |\n",
      "|  CPU_CLK_UNHALTED_REF STAT |  FIXC2  | 31508457624 |   0 | 27570327480 | 9.846393e+08 |\n",
      "|       TEMP_CORE STAT       |   TMP0  |         759 |  19 |          28 |      23.7188 |\n",
      "|     PWR_PKG_ENERGY STAT    |   PWR0  |    966.6942 |   0 |    538.4854 |      30.2092 |\n",
      "|     PWR_PP0_ENERGY STAT    |   PWR1  |           0 |   0 |           0 |            0 |\n",
      "|    PWR_DRAM_ENERGY STAT    |   PWR3  |    113.2519 |   0 |     67.4621 |       3.5391 |\n",
      "|  Runtime (RDTSC) [s] STAT |   563.4432 |  17.6076 |   17.6076 |  17.6076 |\n",
      "| Runtime unhalted [s] STAT |    29.1446 |        0 |   25.5239 |   0.9108 |\n",
      "|      Clock [MHz] STAT     | 16422.2851 | 799.9077 | 2999.3609 | 513.1964 |\n",
      "|          CPI STAT         |    41.5295 |   0.7026 |    8.8364 |   1.2978 |\n",
      "|    Temperature [C] STAT   |        759 |       19 |        28 |  23.7188 |\n",
      "|      Energy [J] STAT      |   966.6942 |        0 |  538.4854 |  30.2092 |\n",
      "|       Power [W] STAT      |    54.9020 |        0 |   30.5825 |   1.7157 |\n",
      "|    Energy PP0 [J] STAT    |          0 |        0 |         0 |        0 |\n",
      "|     Power PP0 [W] STAT    |          0 |        0 |         0 |        0 |\n",
      "|    Energy DRAM [J] STAT   |   113.2519 |        0 |   67.4621 |   3.5391 |\n",
      "|    Power DRAM [W] STAT    |     6.4320 |        0 |    3.8314 |   0.2010 |\n",
      "\n",
      "real\t0m18.963s\n",
      "user\t0m17.622s\n",
      "sys\t0m0.150s\n"
     ]
    }
   ],
   "source": [
    "# Allowing turbo boost\n",
    "! ssh htseng@eevee \"/nfshome/htseng/courses/CSE142/demo/power/restoreMaxFreq.sh; cd /nfshome/htseng/courses/CSE142/demo/power;  time sudo likwid-perfctr -g ENERGY matrix_mul/blockmm_pthread 2048 16 4\" | grep \"STAT\""
   ]
  },
  {
   "cell_type": "code",
   "execution_count": null,
   "id": "bfc4f87c-aff2-44e3-9e1b-1c273d72d41a",
   "metadata": {},
   "outputs": [],
   "source": []
  }
 ],
 "metadata": {
  "kernelspec": {
   "display_name": "Python 3 (ipykernel)",
   "language": "python",
   "name": "python3"
  },
  "language_info": {
   "codemirror_mode": {
    "name": "ipython",
    "version": 3
   },
   "file_extension": ".py",
   "mimetype": "text/x-python",
   "name": "python",
   "nbconvert_exporter": "python",
   "pygments_lexer": "ipython3",
   "version": "3.12.3"
  },
  "widgets": {
   "application/vnd.jupyter.widget-state+json": {
    "state": {},
    "version_major": 2,
    "version_minor": 0
   }
  }
 },
 "nbformat": 4,
 "nbformat_minor": 5
}
