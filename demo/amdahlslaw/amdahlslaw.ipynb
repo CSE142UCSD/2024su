{
 "cells": [
  {
   "cell_type": "code",
   "execution_count": 42,
   "id": "39bd05fd-cae3-4bed-9b16-0114306cfc72",
   "metadata": {},
   "outputs": [
    {
     "name": "stderr",
     "output_type": "stream",
     "text": [
      "/nfshome/htseng/courses/CSE142/demo/amdahlslaw/notebook.py:229: SyntaxWarning: invalid escape sequence '\\s'\n",
      "  if show is not None and len(show) == 2:\n",
      "/nfshome/htseng/courses/CSE142/demo/amdahlslaw/notebook.py:229: SyntaxWarning: invalid escape sequence '\\s'\n",
      "  if show is not None and len(show) == 2:\n",
      "/nfshome/htseng/courses/CSE142/demo/amdahlslaw/notebook.py:229: SyntaxWarning: invalid escape sequence '\\}'\n",
      "  if show is not None and len(show) == 2:\n"
     ]
    },
    {
     "data": {
      "text/html": [
       "<style>h1 {font-size: 40px;} h2 {font-size: 30px;} p {font-size: 24px;} div.prompt, code, output, prompt, kbd, pre, samp {font-family: 'SF Mono', 'Courier New', Courier, monospace, sans-serif !important;font-size: 24px !important;}</style>"
      ],
      "text/plain": [
       "<IPython.core.display.HTML object>"
      ]
     },
     "metadata": {},
     "output_type": "display_data"
    },
    {
     "name": "stdout",
     "output_type": "stream",
     "text": [
      "The autoreload extension is already loaded. To reload it, use:\n",
      "  %reload_ext autoreload\n"
     ]
    }
   ],
   "source": [
    "# Please execute/shift-return this cell everytime you run the notebook.  Don't edit it. \n",
    "%load_ext autoreload\n",
    "%autoreload 2\n",
    "from notebook import * "
   ]
  },
  {
   "cell_type": "markdown",
   "id": "cc91b7b4-d577-4799-90e0-8caf96cf580c",
   "metadata": {},
   "source": [
    "# Amdahl's Law\n",
    "\n",
    "## The starting example -- sorting"
   ]
  },
  {
   "cell_type": "code",
   "execution_count": null,
   "id": "b3530190-c853-4c69-85de-07e8880ca00a",
   "metadata": {},
   "outputs": [],
   "source": [
    "render_code(\"./gpusort/main.cu\", show=\"main\")"
   ]
  },
  {
   "cell_type": "markdown",
   "id": "a5018288-6079-4125-98a1-4f9a2b0b3805",
   "metadata": {},
   "source": [
    "## Where is the most time critical part of my program?"
   ]
  },
  {
   "cell_type": "code",
   "execution_count": null,
   "id": "5e664bcf-222e-4e65-a6ad-1fbf514aba84",
   "metadata": {},
   "outputs": [],
   "source": [
    "! cd gpusort; make clean; make\n",
    "! echo \"File on H.D.D.; Sorting on CPU\"\n",
    "! cd ./gpusort; echo \"ET,FileInput,CPU_Kernel,GPU_Kernel,Host2GPU,GPU2Host\" > sort.csv; source ./run_CPU 2>> sort.csv"
   ]
  },
  {
   "cell_type": "code",
   "execution_count": null,
   "id": "c35f2dd3-6527-45f5-8532-7f2559fe53cf",
   "metadata": {},
   "outputs": [],
   "source": [
    "display_df_mono(render_csv(\"./gpusort/sort.csv\", columns=[\"ET\",\"FileInput\",\"CPU_Kernel\"]))"
   ]
  },
  {
   "cell_type": "code",
   "execution_count": null,
   "id": "843a92c4-efc7-40a6-ac57-dfd337b89ce8",
   "metadata": {},
   "outputs": [],
   "source": [
    "! lscpu"
   ]
  },
  {
   "cell_type": "markdown",
   "id": "af94141c-0b93-4def-8062-41cc7bcea741",
   "metadata": {},
   "source": [
    "### Use gprof to figure out the timing breakdown"
   ]
  },
  {
   "cell_type": "code",
   "execution_count": null,
   "id": "0dc40f30-34f4-4797-a259-7d2e18dfb931",
   "metadata": {},
   "outputs": [],
   "source": [
    "! cd gpusort; make clean; make EXTRA_FLAGS=-pg \n",
    "! cd ./gpusort; source ./run_CPU"
   ]
  },
  {
   "cell_type": "code",
   "execution_count": null,
   "id": "0668b2dc-5a3c-4a30-9421-72e6636eb594",
   "metadata": {},
   "outputs": [],
   "source": [
    "! cd gpusort; gprof ./hybridsort_cpu ./gmon.out"
   ]
  },
  {
   "cell_type": "markdown",
   "id": "822722b6-0472-4380-ab50-5692be8a2d07",
   "metadata": {},
   "source": [
    "## Amdahl's Law -- optimizating is a moving target"
   ]
  },
  {
   "cell_type": "code",
   "execution_count": null,
   "id": "635fdd0f-c640-4018-bac9-332b36078458",
   "metadata": {},
   "outputs": [],
   "source": [
    "render_code(\"./gpusort/main.cu\", lang=\"c++\", show=\"bitonic_sort\")"
   ]
  },
  {
   "cell_type": "code",
   "execution_count": null,
   "id": "c73d3821-69cd-4eea-a462-1e37d06b918c",
   "metadata": {},
   "outputs": [],
   "source": [
    "! nvidia-smi -a"
   ]
  },
  {
   "cell_type": "code",
   "execution_count": null,
   "id": "aca55b1e-f40f-42e8-8444-e47f5703d609",
   "metadata": {},
   "outputs": [],
   "source": [
    "! cd gpusort; make clean; make\n",
    "# ! ssh htseng@azelf \"source ./courses/CS203/demo/amdahlslaw/gpusort/run_CPU\"\n",
    "! echo \"File on H.D.D.; Sorting on GPU\"\n",
    "! cd gpusort; source ./run 2>> sort.csv"
   ]
  },
  {
   "cell_type": "code",
   "execution_count": null,
   "id": "2efa9850-29a9-42ba-9fa3-c3df23661e69",
   "metadata": {},
   "outputs": [],
   "source": [
    "display_df_mono(render_csv(\"./gpusort/sort.csv\"))"
   ]
  },
  {
   "cell_type": "code",
   "execution_count": null,
   "id": "25cc7e14-4e94-48d8-b228-f8e3df3355ca",
   "metadata": {},
   "outputs": [],
   "source": [
    "! echo \"File on S.S.D.; Sorting on GPU\"\n",
    "! cd gpusort; source ./run_SSD 2>> sort.csv"
   ]
  },
  {
   "cell_type": "code",
   "execution_count": null,
   "id": "42c3bd85-2cb9-4492-ae36-4bd92db2eed5",
   "metadata": {},
   "outputs": [],
   "source": [
    "display_df_mono(render_csv(\"./gpusort/sort.csv\"))"
   ]
  },
  {
   "cell_type": "markdown",
   "id": "f88d79cb-c4c4-4bca-a232-7c0c70186139",
   "metadata": {},
   "source": [
    "## Amdahl's Law on parallel programming"
   ]
  },
  {
   "cell_type": "code",
   "execution_count": null,
   "id": "603bc4f5-caa2-4adb-9631-848e86ef7d25",
   "metadata": {},
   "outputs": [],
   "source": [
    "! cd vmul; make clean; make\n",
    "! echo \"THREADS,CPUTIME,HOST2GPU,GPUTIME,GPU2HOST\" > ./vmul/vmul.csv\n",
    "! echo \"CPU based vul\"\n",
    "! time ./vmul/vmul 33554432 1 0 30 2>> ./vmul/vmul.csv\n",
    "! echo \"GPU based vul\"\n",
    "### i stands for \"How many iterations each thread performs \n",
    "### -- the larger the number, the fewer the parallelism\n",
    "! for i in 1 2 4 8 16 32 64 128 256 512 1024 2048 4096 8192; do time ./vmul/vmul 33554432 $i 1 30 2>> ./vmul/vmul.csv ; done"
   ]
  },
  {
   "cell_type": "code",
   "execution_count": null,
   "id": "57027deb-99ae-4aa4-af88-7926abfdab58",
   "metadata": {},
   "outputs": [],
   "source": [
    "df = render_csv(\"./vmul/vmul.csv\")\n",
    "df[\"TOTAL\"] = df[\"CPUTIME\"] + df[\"HOST2GPU\"] + df[\"GPUTIME\"] + df[\"GPU2HOST\"]\n",
    "df = df.sort_values(by=[\"THREADS\"], ascending=True)\n",
    "display_df_mono(df)\n",
    "plotPE(df=df, lines=True, what=[ ('THREADS', \"TOTAL\"), ('THREADS', \"GPUTIME\")], columns=2)"
   ]
  },
  {
   "cell_type": "markdown",
   "id": "3747180a-ce28-4329-b26e-1c17ac309e97",
   "metadata": {},
   "source": [
    "# Choose the \"right\" metrics\n",
    "\n",
    "## Throughput and Latency\n",
    "\n",
    "### SSD v.s. HDD\n",
    "\n",
    "You may use to hdparm (need root permission to execute). The /dev/sda on this machine is an SATA SSD that has around 450-500MB/sec bandwidth. The /dev/md0 is a RAID contains two H.D.Ds in RAID-0 configuration that also achieves 450-500MB/sec bandwidth. Let's examine the bandwidth using the following command."
   ]
  },
  {
   "cell_type": "code",
   "execution_count": null,
   "id": "2e609d7a-4a9a-4b77-83fc-764de897ffd9",
   "metadata": {},
   "outputs": [],
   "source": [
    "from IPython.display import IFrame\n",
    "IFrame(\"https://hub.escalab.org:8000/user/htseng/terminals/1\", width=\"100%\", height=\"400\")"
   ]
  },
  {
   "cell_type": "markdown",
   "id": "abb91ae4-11f4-4acc-a107-c60b84d99149",
   "metadata": {},
   "source": [
    "Now, let's revisit the optimized gpusort on this machine with different array size..."
   ]
  },
  {
   "cell_type": "code",
   "execution_count": null,
   "id": "c4844277-f48e-4fe6-b9e0-6c0c88fa3c57",
   "metadata": {},
   "outputs": [],
   "source": [
    "! echo \"Configuration,Size,ET,FileInput,CPU_Kernel,GPU_Kernel,Host2GPU,GPU2Host\" > sort_small.csv\n",
    "! echo \"File on H.D.D\"\n",
    "! cd gpusort; source ./run_small 512 2>> ../sort_small.csv\n",
    "! echo \"File on S.S.D\"\n",
    "! cd gpusort; source ./run_small_SSD 512 2>> ../sort_small.csv\n",
    "! echo \"File on H.D.D\"\n",
    "! cd gpusort; source ./run_small 32768 2>> ../sort_small.csv\n",
    "! echo \"File on S.S.D\"\n",
    "! cd gpusort; source ./run_small_SSD 32768 2>> ../sort_small.csv\n",
    "! echo \"File on H.D.D\"\n",
    "! cd gpusort; source ./run_small 262144 2>> ../sort_small.csv\n",
    "! echo \"File on S.S.D\"\n",
    "! cd gpusort; source ./run_small_SSD 262144 2>> ../sort_small.csv\n",
    "display_df_mono((render_csv(\"sort_small.csv\")))"
   ]
  },
  {
   "cell_type": "markdown",
   "id": "f7b7b25d-f14d-498a-8f9b-68ebfd312647",
   "metadata": {},
   "source": [
    "What can we observe here?"
   ]
  },
  {
   "cell_type": "markdown",
   "id": "9aebafa3-2b3e-4088-a67e-18e3798a0f9f",
   "metadata": {},
   "source": [
    "## FLOPs"
   ]
  },
  {
   "cell_type": "code",
   "execution_count": 44,
   "id": "63158edb-722c-4f04-88fe-4080b9c7e99e",
   "metadata": {},
   "outputs": [
    {
     "name": "stdout",
     "output_type": "stream",
     "text": [
      "make: Nothing to be done for 'all'.\n"
     ]
    }
   ],
   "source": [
    "! cd metrics; make; echo \"size,GLOPS,GPU_time\" > flops.csv"
   ]
  },
  {
   "cell_type": "code",
   "execution_count": 22,
   "id": "5dd903d6-e9d8-498a-a1e5-b5ef03c624e9",
   "metadata": {},
   "outputs": [
    {
     "name": "stdout",
     "output_type": "stream",
     "text": [
      "Data type size: 4\n",
      "\n",
      "Time: 4433.704 ms\n",
      "\n",
      "Throughput: 3.87 GFLOPS\n",
      "\n",
      "\n",
      "real\t0m4.557s\n",
      "user\t0m4.540s\n",
      "sys\t0m0.016s\n"
     ]
    }
   ],
   "source": [
    "! cd ./metrics; time ./cpumm 2048 512"
   ]
  },
  {
   "cell_type": "code",
   "execution_count": 45,
   "id": "51531017-ea4a-4fe9-afe0-91ca7d43d9b1",
   "metadata": {},
   "outputs": [
    {
     "name": "stdout",
     "output_type": "stream",
     "text": [
      "Data Type Size: 4\n",
      "Time elapsed on matrix multiplication of 2048x2048 . 2048x2048 on GPU: 20.699425 ms.\n",
      "\n",
      "\n",
      "Throughput: 829.97 GFLOPS\n",
      "\n",
      "\n",
      "real\t0m0.471s\n",
      "user\t0m0.123s\n",
      "sys\t0m0.344s\n"
     ]
    }
   ],
   "source": [
    "! cd ./metrics; time ./cudamm 2048 1 2>> flops.csv "
   ]
  },
  {
   "cell_type": "code",
   "execution_count": 46,
   "id": "f536894b-44e9-432f-8897-224a8625d47b",
   "metadata": {},
   "outputs": [
    {
     "name": "stdout",
     "output_type": "stream",
     "text": [
      "Data Type Size: 4\n",
      "Time elapsed on matrix multiplication of 4096x4096 . 4096x4096 on GPU: 160.060760 ms.\n",
      "\n",
      "\n",
      "Throughput: 858.67 GFLOPS\n",
      "\n",
      "\n",
      "real\t0m0.894s\n",
      "user\t0m0.503s\n",
      "sys\t0m0.387s\n"
     ]
    }
   ],
   "source": [
    "! cd ./metrics; time ./cudamm 4096 1 2>> flops.csv "
   ]
  },
  {
   "cell_type": "code",
   "execution_count": 58,
   "id": "7cd5ca1c-59b5-4327-88e6-147206eb8cdc",
   "metadata": {},
   "outputs": [
    {
     "name": "stdout",
     "output_type": "stream",
     "text": [
      "Data Type Size: 4\n",
      "Time elapsed on matrix multiplication of 8192x8192 . 8192x8192 on GPU: 816.527283 ms.\n",
      "\n",
      "\n",
      "Throughput: 1346.57 GFLOPS\n",
      "\n",
      "\n",
      "real\t0m2.610s\n",
      "user\t0m2.127s\n",
      "sys\t0m0.479s\n"
     ]
    }
   ],
   "source": [
    "! cd metrics; time ./cudamm 8192 1 2>> flops.csv "
   ]
  },
  {
   "cell_type": "code",
   "execution_count": 57,
   "id": "3dfc901b-42a7-44aa-9d30-1a75576e18cb",
   "metadata": {},
   "outputs": [
    {
     "name": "stdout",
     "output_type": "stream",
     "text": [
      "Data Type Size: 4\n",
      "Time elapsed on matrix multiplication of 8192x8192 . 8192x8192 on GPU: 347.209137 ms.\n",
      "\n",
      "\n",
      "Throughput: 3166.71 GFLOPS\n",
      "\n",
      "\n",
      "real\t0m1.991s\n",
      "user\t0m1.626s\n",
      "sys\t0m0.359s\n"
     ]
    }
   ],
   "source": [
    "! ssh htseng@lapras \"time /nfshome/htseng/courses/CSE142/demo/amdahlslaw/metrics/cudamm 8192 1 2>> /nfshome/htseng/courses/CSE142/demo/amdahlslaw/metrics/flops.csv \""
   ]
  },
  {
   "cell_type": "code",
   "execution_count": 62,
   "id": "00b29e0d-57a0-46e5-91cf-0b89656d96c1",
   "metadata": {},
   "outputs": [
    {
     "name": "stdout",
     "output_type": "stream",
     "text": [
      "2.2445804579819977\n"
     ]
    }
   ],
   "source": [
    "FLOPS_Ratio = 781.863586/348.333954\n",
    "print(FLOPS_Ratio)"
   ]
  },
  {
   "cell_type": "code",
   "execution_count": 61,
   "id": "54ec263a-370f-4557-a60c-4b6053bd1ee1",
   "metadata": {},
   "outputs": [
    {
     "name": "stdout",
     "output_type": "stream",
     "text": [
      "1.3108990457056755\n"
     ]
    }
   ],
   "source": [
    "Speedup = 2.610/1.991\n",
    "print(Speedup)"
   ]
  },
  {
   "cell_type": "code",
   "execution_count": null,
   "id": "ade98520-6b66-46fd-bc8e-8c40e76a9299",
   "metadata": {},
   "outputs": [],
   "source": [
    "! cd metrics; time ./cudamm_double 2048 1"
   ]
  },
  {
   "cell_type": "code",
   "execution_count": null,
   "id": "74caab1a-9df8-4822-9de6-d349745324b0",
   "metadata": {},
   "outputs": [],
   "source": [
    "! cd metrics;  ./cudamm_double 2048 0"
   ]
  },
  {
   "cell_type": "code",
   "execution_count": null,
   "id": "3bcd4351-670e-4bc0-a5f4-1104dc643a1a",
   "metadata": {},
   "outputs": [],
   "source": [
    "! cd metrics; time ./cpumm_double 2048 512"
   ]
  },
  {
   "cell_type": "code",
   "execution_count": null,
   "id": "ea3b5208-bc0d-4e07-838e-0fde627a20cb",
   "metadata": {},
   "outputs": [],
   "source": [
    "! cd metrics;  time ./cudamm 2048 0"
   ]
  },
  {
   "cell_type": "code",
   "execution_count": null,
   "id": "e7b788b5-f68a-4961-86dc-5b3f9c6e238c",
   "metadata": {},
   "outputs": [],
   "source": []
  }
 ],
 "metadata": {
  "kernelspec": {
   "display_name": "Python 3 (ipykernel)",
   "language": "python",
   "name": "python3"
  },
  "language_info": {
   "codemirror_mode": {
    "name": "ipython",
    "version": 3
   },
   "file_extension": ".py",
   "mimetype": "text/x-python",
   "name": "python",
   "nbconvert_exporter": "python",
   "pygments_lexer": "ipython3",
   "version": "3.12.3"
  },
  "widgets": {
   "application/vnd.jupyter.widget-state+json": {
    "state": {},
    "version_major": 2,
    "version_minor": 0
   }
  }
 },
 "nbformat": 4,
 "nbformat_minor": 5
}
