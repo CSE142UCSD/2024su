{
 "cells": [
  {
   "cell_type": "code",
   "execution_count": 14,
   "id": "39bd05fd-cae3-4bed-9b16-0114306cfc72",
   "metadata": {},
   "outputs": [
    {
     "name": "stdout",
     "output_type": "stream",
     "text": [
      "The autoreload extension is already loaded. To reload it, use:\n",
      "  %reload_ext autoreload\n"
     ]
    }
   ],
   "source": [
    "# Please execute/shift-return this cell everytime you run the notebook.  Don't edit it. \n",
    "%load_ext autoreload\n",
    "%autoreload 2\n",
    "from notebook import * "
   ]
  },
  {
   "cell_type": "markdown",
   "id": "153bf8bc-4669-497c-be58-87dfca91233a",
   "metadata": {},
   "source": [
    "# Our processor"
   ]
  },
  {
   "cell_type": "code",
   "execution_count": 13,
   "id": "843a92c4-efc7-40a6-ac57-dfd337b89ce8",
   "metadata": {},
   "outputs": [
    {
     "name": "stdout",
     "output_type": "stream",
     "text": [
      "Architecture:             x86_64\r\n",
      "  CPU op-mode(s):         32-bit, 64-bit\r\n",
      "  Address sizes:          46 bits physical, 48 bits virtual\r\n",
      "  Byte Order:             Little Endian\r\n",
      "CPU(s):                   24\r\n",
      "  On-line CPU(s) list:    0-23\r\n",
      "Vendor ID:                GenuineIntel\r\n",
      "  Model name:             13th Gen Intel(R) Core(TM) i7-13700\r\n",
      "    CPU family:           6\r\n",
      "    Model:                183\r\n",
      "    Thread(s) per core:   2\r\n",
      "    Core(s) per socket:   16\r\n",
      "    Socket(s):            1\r\n",
      "    Stepping:             1\r\n",
      "    CPU(s) scaling MHz:   23%\r\n",
      "    CPU max MHz:          5200.0000\r\n",
      "    CPU min MHz:          800.0000\r\n",
      "    BogoMIPS:             4224.00\r\n",
      "    Flags:                fpu vme de pse tsc msr pae mce cx8 apic sep mtrr pge m\r\n",
      "                          ca cmov pat pse36 clflush dts acpi mmx fxsr sse sse2 s\r\n",
      "                          s ht tm pbe syscall nx pdpe1gb rdtscp lm constant_tsc \r\n",
      "                          art arch_perfmon pebs bts rep_good nopl xtopology nons\r\n",
      "                          top_tsc cpuid aperfmperf tsc_known_freq pni pclmulqdq \r\n",
      "                          dtes64 monitor ds_cpl vmx smx est tm2 ssse3 sdbg fma c\r\n",
      "                          x16 xtpr pdcm sse4_1 sse4_2 x2apic movbe popcnt tsc_de\r\n",
      "                          adline_timer aes xsave avx f16c rdrand lahf_lm abm 3dn\r\n",
      "                          owprefetch cpuid_fault ssbd ibrs ibpb stibp ibrs_enhan\r\n",
      "                          ced tpr_shadow flexpriority ept vpid ept_ad fsgsbase t\r\n",
      "                          sc_adjust bmi1 avx2 smep bmi2 erms invpcid rdseed adx \r\n",
      "                          smap clflushopt clwb intel_pt sha_ni xsaveopt xsavec x\r\n",
      "                          getbv1 xsaves split_lock_detect user_shstk avx_vnni dt\r\n",
      "                          herm ida arat pln pts hwp hwp_notify hwp_act_window hw\r\n",
      "                          p_epp hwp_pkg_req hfi vnmi umip pku ospke waitpkg gfni\r\n",
      "                           vaes vpclmulqdq tme rdpid movdiri movdir64b fsrm md_c\r\n",
      "                          lear serialize pconfig arch_lbr ibt flush_l1d arch_cap\r\n",
      "                          abilities\r\n",
      "Virtualization features:  \r\n",
      "  Virtualization:         VT-x\r\n",
      "Caches (sum of all):      \r\n",
      "  L1d:                    640 KiB (16 instances)\r\n",
      "  L1i:                    768 KiB (16 instances)\r\n",
      "  L2:                     24 MiB (10 instances)\r\n",
      "  L3:                     30 MiB (1 instance)\r\n",
      "NUMA:                     \r\n",
      "  NUMA node(s):           1\r\n",
      "  NUMA node0 CPU(s):      0-23\r\n",
      "Vulnerabilities:          \r\n",
      "  Gather data sampling:   Not affected\r\n",
      "  Itlb multihit:          Not affected\r\n",
      "  L1tf:                   Not affected\r\n",
      "  Mds:                    Not affected\r\n",
      "  Meltdown:               Not affected\r\n",
      "  Mmio stale data:        Not affected\r\n",
      "  Reg file data sampling: Mitigation; Clear Register File\r\n",
      "  Retbleed:               Not affected\r\n",
      "  Spec rstack overflow:   Not affected\r\n",
      "  Spec store bypass:      Mitigation; Speculative Store Bypass disabled via prct\r\n",
      "                          l\r\n",
      "  Spectre v1:             Mitigation; usercopy/swapgs barriers and __user pointe\r\n",
      "                          r sanitization\r\n",
      "  Spectre v2:             Mitigation; Enhanced / Automatic IBRS; IBPB conditiona\r\n",
      "                          l; RSB filling; PBRSB-eIBRS SW sequence; BHI BHI_DIS_S\r\n",
      "  Srbds:                  Not affected\r\n",
      "  Tsx async abort:        Not affected\r\n"
     ]
    }
   ],
   "source": [
    "! lscpu"
   ]
  },
  {
   "cell_type": "markdown",
   "id": "3747180a-ce28-4329-b26e-1c17ac309e97",
   "metadata": {},
   "source": [
    "# Choose the \"right\" metrics\n",
    "\n",
    "## Throughput and Latency\n",
    "\n",
    "### SSD v.s. HDD\n",
    "\n",
    "You may use to hdparm (need root permission to execute). The /dev/sda on this machine is an SATA SSD that has around 450-500MB/sec bandwidth. The /dev/md0 is a RAID contains two H.D.Ds in RAID-0 configuration that also achieves 450-500MB/sec bandwidth. Let's examine the bandwidth using the following command."
   ]
  },
  {
   "cell_type": "code",
   "execution_count": null,
   "id": "2e609d7a-4a9a-4b77-83fc-764de897ffd9",
   "metadata": {},
   "outputs": [],
   "source": [
    "from IPython.display import IFrame\n",
    "IFrame(\"https://hub.escalab.org:8000/user/htseng/terminals/1\", width=\"100%\", height=\"400\")"
   ]
  },
  {
   "cell_type": "code",
   "execution_count": null,
   "id": "c4844277-f48e-4fe6-b9e0-6c0c88fa3c57",
   "metadata": {},
   "outputs": [],
   "source": [
    "! cp ../300000000.bin /tmp/300000000.bin\n",
    "! echo \"Configuration,Size,ET,FileInput,CPU_Kernel,GPU_Kernel,Host2GPU,GPU2Host\" > sort_small.csv\n",
    "! echo \"File on H.D.D\"\n",
    "! cd gpusort; source ./run_small 512 2>> ../sort_small.csv\n",
    "! echo \"File on S.S.D\"\n",
    "! cd gpusort; source ./run_small_SSD 512 2>> ../sort_small.csv\n",
    "! echo \"File on H.D.D\"\n",
    "! cd gpusort; source ./run_small 32768 2>> ../sort_small.csv\n",
    "! echo \"File on S.S.D\"\n",
    "! cd gpusort; source ./run_small_SSD 32768 2>> ../sort_small.csv\n",
    "! echo \"File on H.D.D\"\n",
    "! cd gpusort; source ./run_small 262144 2>> ../sort_small.csv\n",
    "! echo \"File on S.S.D\"\n",
    "! cd gpusort; source ./run_small_SSD 262144 2>> ../sort_small.csv\n",
    "rm -f /tmp/300000000.bin\n",
    "display_df_mono((render_csv(\"sort_small.csv\")))"
   ]
  },
  {
   "cell_type": "markdown",
   "id": "f7b7b25d-f14d-498a-8f9b-68ebfd312647",
   "metadata": {},
   "source": [
    "What can we observe here?"
   ]
  },
  {
   "cell_type": "markdown",
   "id": "9aebafa3-2b3e-4088-a67e-18e3798a0f9f",
   "metadata": {},
   "source": [
    "## FLOPs"
   ]
  },
  {
   "cell_type": "code",
   "execution_count": 15,
   "id": "63158edb-722c-4f04-88fe-4080b9c7e99e",
   "metadata": {},
   "outputs": [
    {
     "name": "stdout",
     "output_type": "stream",
     "text": [
      "make: Nothing to be done for 'all'.\r\n"
     ]
    }
   ],
   "source": [
    "! cd metrics; make; echo \"size,GLOPS,GPU_time\" > flops.csv"
   ]
  },
  {
   "cell_type": "code",
   "execution_count": 16,
   "id": "5dd903d6-e9d8-498a-a1e5-b5ef03c624e9",
   "metadata": {},
   "outputs": [
    {
     "name": "stdout",
     "output_type": "stream",
     "text": [
      "Data type size: 4\n",
      "\n",
      "Time: 4394.022 ms\n",
      "\n",
      "Throughput: 3.91 GFLOPS\n",
      "\n",
      "\n",
      "real\t0m4.495s\n",
      "user\t0m4.478s\n",
      "sys\t0m0.016s\n"
     ]
    }
   ],
   "source": [
    "! cd ./metrics; time ./cpumm 2048 512"
   ]
  },
  {
   "cell_type": "code",
   "execution_count": 20,
   "id": "51531017-ea4a-4fe9-afe0-91ca7d43d9b1",
   "metadata": {},
   "outputs": [
    {
     "name": "stdout",
     "output_type": "stream",
     "text": [
      "Data Type Size: 4\n",
      "Time elapsed on matrix multiplication of 2048x2048 . 2048x2048 on GPU: 20.753952 ms.\n",
      "\n",
      "\n",
      "Throughput: 827.79 GFLOPS\n",
      "\n",
      "\n",
      "real\t0m0.447s\n",
      "user\t0m0.116s\n",
      "sys\t0m0.325s\n"
     ]
    }
   ],
   "source": [
    "! cd ./metrics; time ./cudamm 2048 1 2>> flops.csv "
   ]
  },
  {
   "cell_type": "code",
   "execution_count": 25,
   "id": "f536894b-44e9-432f-8897-224a8625d47b",
   "metadata": {},
   "outputs": [
    {
     "name": "stdout",
     "output_type": "stream",
     "text": [
      "Data Type Size: 4\n",
      "Time elapsed on matrix multiplication of 4096x4096 . 4096x4096 on GPU: 173.070023 ms.\n",
      "\n",
      "\n",
      "Throughput: 794.12 GFLOPS\n",
      "\n",
      "\n",
      "real\t0m0.836s\n",
      "user\t0m0.497s\n",
      "sys\t0m0.334s\n"
     ]
    }
   ],
   "source": [
    "! cd ./metrics; time ./cudamm 4096 1 2>> flops.csv "
   ]
  },
  {
   "cell_type": "code",
   "execution_count": 26,
   "id": "7cd5ca1c-59b5-4327-88e6-147206eb8cdc",
   "metadata": {},
   "outputs": [
    {
     "name": "stdout",
     "output_type": "stream",
     "text": [
      "Data Type Size: 4\n",
      "Time elapsed on matrix multiplication of 8192x8192 . 8192x8192 on GPU: 816.980469 ms.\n",
      "\n",
      "\n",
      "Throughput: 1345.82 GFLOPS\n",
      "\n",
      "\n",
      "real\t0m2.653s\n",
      "user\t0m2.121s\n",
      "sys\t0m0.523s\n"
     ]
    }
   ],
   "source": [
    "! cd metrics; time ./cudamm 8192 1 2>> flops.csv "
   ]
  },
  {
   "cell_type": "code",
   "execution_count": 27,
   "id": "3dfc901b-42a7-44aa-9d30-1a75576e18cb",
   "metadata": {},
   "outputs": [
    {
     "name": "stdout",
     "output_type": "stream",
     "text": [
      "Tue Aug  6 15:10:59 2024       \n",
      "+-----------------------------------------------------------------------------------------+\n",
      "| NVIDIA-SMI 555.42.06              Driver Version: 555.42.06      CUDA Version: 12.5     |\n",
      "|-----------------------------------------+------------------------+----------------------+\n",
      "| GPU  Name                 Persistence-M | Bus-Id          Disp.A | Volatile Uncorr. ECC |\n",
      "| Fan  Temp   Perf          Pwr:Usage/Cap |           Memory-Usage | GPU-Util  Compute M. |\n",
      "|                                         |                        |               MIG M. |\n",
      "|=========================================+========================+======================|\n",
      "|   0  NVIDIA GeForce RTX 4090        On  |   00000000:01:00.0 Off |                  Off |\n",
      "|  0%   45C    P8             14W /  450W |       2MiB /  24564MiB |      0%      Default |\n",
      "|                                         |                        |                  N/A |\n",
      "+-----------------------------------------+------------------------+----------------------+\n",
      "                                                                                         \n",
      "+-----------------------------------------------------------------------------------------+\n",
      "| Processes:                                                                              |\n",
      "|  GPU   GI   CI        PID   Type   Process name                              GPU Memory |\n",
      "|        ID   ID                                                               Usage      |\n",
      "|=========================================================================================|\n",
      "|  No running processes found                                                             |\n",
      "+-----------------------------------------------------------------------------------------+\n",
      "Data Type Size: 4\n",
      "Time elapsed on matrix multiplication of 8192x8192 . 8192x8192 on GPU: 346.207397 ms.\n",
      "\n",
      "\n",
      "Throughput: 3175.88 GFLOPS\n",
      "\n",
      "\n",
      "real\t0m1.993s\n",
      "user\t0m1.629s\n",
      "sys\t0m0.356s\n"
     ]
    }
   ],
   "source": [
    "! ssh htseng@lapras \"nvidia-smi; time /nfshome/htseng/courses/CSE142/demo/amdahlslaw/metrics/cudamm 8192 1 2>> /nfshome/htseng/courses/CSE142/demo/amdahlslaw/metrics/flops.csv \""
   ]
  },
  {
   "cell_type": "code",
   "execution_count": null,
   "id": "00b29e0d-57a0-46e5-91cf-0b89656d96c1",
   "metadata": {},
   "outputs": [],
   "source": [
    "FLOPS_Ratio = 781.863586/348.333954\n",
    "print(FLOPS_Ratio)"
   ]
  },
  {
   "cell_type": "code",
   "execution_count": null,
   "id": "54ec263a-370f-4557-a60c-4b6053bd1ee1",
   "metadata": {},
   "outputs": [],
   "source": [
    "Speedup = 2.610/1.991\n",
    "print(Speedup)"
   ]
  },
  {
   "cell_type": "code",
   "execution_count": null,
   "id": "ade98520-6b66-46fd-bc8e-8c40e76a9299",
   "metadata": {},
   "outputs": [],
   "source": [
    "! cd metrics; time ./cudamm_double 2048 1"
   ]
  },
  {
   "cell_type": "code",
   "execution_count": null,
   "id": "74caab1a-9df8-4822-9de6-d349745324b0",
   "metadata": {},
   "outputs": [],
   "source": [
    "! cd metrics;  ./cudamm_double 2048 0"
   ]
  },
  {
   "cell_type": "code",
   "execution_count": null,
   "id": "3bcd4351-670e-4bc0-a5f4-1104dc643a1a",
   "metadata": {},
   "outputs": [],
   "source": [
    "! cd metrics; time ./cpumm_double 2048 512"
   ]
  },
  {
   "cell_type": "code",
   "execution_count": null,
   "id": "ea3b5208-bc0d-4e07-838e-0fde627a20cb",
   "metadata": {},
   "outputs": [],
   "source": [
    "! cd metrics;  time ./cudamm 2048 0"
   ]
  },
  {
   "cell_type": "code",
   "execution_count": null,
   "id": "e7b788b5-f68a-4961-86dc-5b3f9c6e238c",
   "metadata": {},
   "outputs": [],
   "source": []
  }
 ],
 "metadata": {
  "kernelspec": {
   "display_name": "Python 3 (ipykernel)",
   "language": "python",
   "name": "python3"
  },
  "language_info": {
   "codemirror_mode": {
    "name": "ipython",
    "version": 3
   },
   "file_extension": ".py",
   "mimetype": "text/x-python",
   "name": "python",
   "nbconvert_exporter": "python",
   "pygments_lexer": "ipython3",
   "version": "3.12.3"
  },
  "widgets": {
   "application/vnd.jupyter.widget-state+json": {
    "state": {},
    "version_major": 2,
    "version_minor": 0
   }
  }
 },
 "nbformat": 4,
 "nbformat_minor": 5
}
